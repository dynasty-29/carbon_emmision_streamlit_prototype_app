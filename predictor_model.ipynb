{
  "nbformat": 4,
  "nbformat_minor": 0,
  "metadata": {
    "colab": {
      "provenance": [],
      "authorship_tag": "ABX9TyNO70CH880tMbo0pyffVlvQ",
      "include_colab_link": true
    },
    "kernelspec": {
      "name": "python3",
      "display_name": "Python 3"
    },
    "language_info": {
      "name": "python"
    }
  },
  "cells": [
    {
      "cell_type": "markdown",
      "metadata": {
        "id": "view-in-github",
        "colab_type": "text"
      },
      "source": [
        "<a href=\"https://colab.research.google.com/github/dynasty-29/carbon_emmision_streamlit_prototype_app/blob/main/predictor_model.ipynb\" target=\"_parent\"><img src=\"https://colab.research.google.com/assets/colab-badge.svg\" alt=\"Open In Colab\"/></a>"
      ]
    },
    {
      "cell_type": "code",
      "execution_count": 1,
      "metadata": {
        "id": "xBTNSJ2zcx00"
      },
      "outputs": [],
      "source": [
        "#importing libraries\n",
        "import pandas as pd\n",
        "import numpy as np\n",
        "\n",
        "from xgboost import XGBRegressor\n",
        "from sklearn.model_selection import train_test_split\n",
        "from sklearn.model_selection import GridSearchCV\n",
        "from sklearn.metrics import mean_absolute_error, mean_squared_error, r2_score"
      ]
    },
    {
      "cell_type": "code",
      "source": [
        "#loading our clean data\n",
        "data = pd.read_csv('/content/data')"
      ],
      "metadata": {
        "id": "HcjIbfS5dAot"
      },
      "execution_count": 2,
      "outputs": []
    },
    {
      "cell_type": "code",
      "source": [
        "data.head()"
      ],
      "metadata": {
        "colab": {
          "base_uri": "https://localhost:8080/",
          "height": 206
        },
        "id": "Cgc3m5N0dVmF",
        "outputId": "4c8eaeff-b614-46a2-a726-2073ac8a9e9c"
      },
      "execution_count": 3,
      "outputs": [
        {
          "output_type": "execute_result",
          "data": {
            "text/plain": [
              "       Country ISO 3166-1 alpha-3  Year      Total      Coal       Oil  \\\n",
              "0  Afghanistan                AFG  2015   9.791093  2.843264  6.624512   \n",
              "1  Afghanistan                AFG  2016   9.067598  2.878736  5.794097   \n",
              "2  Afghanistan                AFG  2017   9.867969  3.447824  6.074912   \n",
              "3  Afghanistan                AFG  2018  10.818048  3.847200  6.620848   \n",
              "4  Afghanistan                AFG  2019  11.081621  3.954767  6.842956   \n",
              "\n",
              "        Gas    Cement  Flaring  Per Capita  \n",
              "0  0.282128  0.041189      0.0    0.290076  \n",
              "1  0.318639  0.076126      0.0    0.261795  \n",
              "2  0.300448  0.044785      0.0    0.276852  \n",
              "3  0.293120  0.056880      0.0    0.294876  \n",
              "4  0.245569  0.038329      0.0    0.293401  "
            ],
            "text/html": [
              "\n",
              "  <div id=\"df-2d994194-86ea-4ad4-b80c-fc87e412a952\">\n",
              "    <div class=\"colab-df-container\">\n",
              "      <div>\n",
              "<style scoped>\n",
              "    .dataframe tbody tr th:only-of-type {\n",
              "        vertical-align: middle;\n",
              "    }\n",
              "\n",
              "    .dataframe tbody tr th {\n",
              "        vertical-align: top;\n",
              "    }\n",
              "\n",
              "    .dataframe thead th {\n",
              "        text-align: right;\n",
              "    }\n",
              "</style>\n",
              "<table border=\"1\" class=\"dataframe\">\n",
              "  <thead>\n",
              "    <tr style=\"text-align: right;\">\n",
              "      <th></th>\n",
              "      <th>Country</th>\n",
              "      <th>ISO 3166-1 alpha-3</th>\n",
              "      <th>Year</th>\n",
              "      <th>Total</th>\n",
              "      <th>Coal</th>\n",
              "      <th>Oil</th>\n",
              "      <th>Gas</th>\n",
              "      <th>Cement</th>\n",
              "      <th>Flaring</th>\n",
              "      <th>Per Capita</th>\n",
              "    </tr>\n",
              "  </thead>\n",
              "  <tbody>\n",
              "    <tr>\n",
              "      <th>0</th>\n",
              "      <td>Afghanistan</td>\n",
              "      <td>AFG</td>\n",
              "      <td>2015</td>\n",
              "      <td>9.791093</td>\n",
              "      <td>2.843264</td>\n",
              "      <td>6.624512</td>\n",
              "      <td>0.282128</td>\n",
              "      <td>0.041189</td>\n",
              "      <td>0.0</td>\n",
              "      <td>0.290076</td>\n",
              "    </tr>\n",
              "    <tr>\n",
              "      <th>1</th>\n",
              "      <td>Afghanistan</td>\n",
              "      <td>AFG</td>\n",
              "      <td>2016</td>\n",
              "      <td>9.067598</td>\n",
              "      <td>2.878736</td>\n",
              "      <td>5.794097</td>\n",
              "      <td>0.318639</td>\n",
              "      <td>0.076126</td>\n",
              "      <td>0.0</td>\n",
              "      <td>0.261795</td>\n",
              "    </tr>\n",
              "    <tr>\n",
              "      <th>2</th>\n",
              "      <td>Afghanistan</td>\n",
              "      <td>AFG</td>\n",
              "      <td>2017</td>\n",
              "      <td>9.867969</td>\n",
              "      <td>3.447824</td>\n",
              "      <td>6.074912</td>\n",
              "      <td>0.300448</td>\n",
              "      <td>0.044785</td>\n",
              "      <td>0.0</td>\n",
              "      <td>0.276852</td>\n",
              "    </tr>\n",
              "    <tr>\n",
              "      <th>3</th>\n",
              "      <td>Afghanistan</td>\n",
              "      <td>AFG</td>\n",
              "      <td>2018</td>\n",
              "      <td>10.818048</td>\n",
              "      <td>3.847200</td>\n",
              "      <td>6.620848</td>\n",
              "      <td>0.293120</td>\n",
              "      <td>0.056880</td>\n",
              "      <td>0.0</td>\n",
              "      <td>0.294876</td>\n",
              "    </tr>\n",
              "    <tr>\n",
              "      <th>4</th>\n",
              "      <td>Afghanistan</td>\n",
              "      <td>AFG</td>\n",
              "      <td>2019</td>\n",
              "      <td>11.081621</td>\n",
              "      <td>3.954767</td>\n",
              "      <td>6.842956</td>\n",
              "      <td>0.245569</td>\n",
              "      <td>0.038329</td>\n",
              "      <td>0.0</td>\n",
              "      <td>0.293401</td>\n",
              "    </tr>\n",
              "  </tbody>\n",
              "</table>\n",
              "</div>\n",
              "      <button class=\"colab-df-convert\" onclick=\"convertToInteractive('df-2d994194-86ea-4ad4-b80c-fc87e412a952')\"\n",
              "              title=\"Convert this dataframe to an interactive table.\"\n",
              "              style=\"display:none;\">\n",
              "        \n",
              "  <svg xmlns=\"http://www.w3.org/2000/svg\" height=\"24px\"viewBox=\"0 0 24 24\"\n",
              "       width=\"24px\">\n",
              "    <path d=\"M0 0h24v24H0V0z\" fill=\"none\"/>\n",
              "    <path d=\"M18.56 5.44l.94 2.06.94-2.06 2.06-.94-2.06-.94-.94-2.06-.94 2.06-2.06.94zm-11 1L8.5 8.5l.94-2.06 2.06-.94-2.06-.94L8.5 2.5l-.94 2.06-2.06.94zm10 10l.94 2.06.94-2.06 2.06-.94-2.06-.94-.94-2.06-.94 2.06-2.06.94z\"/><path d=\"M17.41 7.96l-1.37-1.37c-.4-.4-.92-.59-1.43-.59-.52 0-1.04.2-1.43.59L10.3 9.45l-7.72 7.72c-.78.78-.78 2.05 0 2.83L4 21.41c.39.39.9.59 1.41.59.51 0 1.02-.2 1.41-.59l7.78-7.78 2.81-2.81c.8-.78.8-2.07 0-2.86zM5.41 20L4 18.59l7.72-7.72 1.47 1.35L5.41 20z\"/>\n",
              "  </svg>\n",
              "      </button>\n",
              "      \n",
              "  <style>\n",
              "    .colab-df-container {\n",
              "      display:flex;\n",
              "      flex-wrap:wrap;\n",
              "      gap: 12px;\n",
              "    }\n",
              "\n",
              "    .colab-df-convert {\n",
              "      background-color: #E8F0FE;\n",
              "      border: none;\n",
              "      border-radius: 50%;\n",
              "      cursor: pointer;\n",
              "      display: none;\n",
              "      fill: #1967D2;\n",
              "      height: 32px;\n",
              "      padding: 0 0 0 0;\n",
              "      width: 32px;\n",
              "    }\n",
              "\n",
              "    .colab-df-convert:hover {\n",
              "      background-color: #E2EBFA;\n",
              "      box-shadow: 0px 1px 2px rgba(60, 64, 67, 0.3), 0px 1px 3px 1px rgba(60, 64, 67, 0.15);\n",
              "      fill: #174EA6;\n",
              "    }\n",
              "\n",
              "    [theme=dark] .colab-df-convert {\n",
              "      background-color: #3B4455;\n",
              "      fill: #D2E3FC;\n",
              "    }\n",
              "\n",
              "    [theme=dark] .colab-df-convert:hover {\n",
              "      background-color: #434B5C;\n",
              "      box-shadow: 0px 1px 3px 1px rgba(0, 0, 0, 0.15);\n",
              "      filter: drop-shadow(0px 1px 2px rgba(0, 0, 0, 0.3));\n",
              "      fill: #FFFFFF;\n",
              "    }\n",
              "  </style>\n",
              "\n",
              "      <script>\n",
              "        const buttonEl =\n",
              "          document.querySelector('#df-2d994194-86ea-4ad4-b80c-fc87e412a952 button.colab-df-convert');\n",
              "        buttonEl.style.display =\n",
              "          google.colab.kernel.accessAllowed ? 'block' : 'none';\n",
              "\n",
              "        async function convertToInteractive(key) {\n",
              "          const element = document.querySelector('#df-2d994194-86ea-4ad4-b80c-fc87e412a952');\n",
              "          const dataTable =\n",
              "            await google.colab.kernel.invokeFunction('convertToInteractive',\n",
              "                                                     [key], {});\n",
              "          if (!dataTable) return;\n",
              "\n",
              "          const docLinkHtml = 'Like what you see? Visit the ' +\n",
              "            '<a target=\"_blank\" href=https://colab.research.google.com/notebooks/data_table.ipynb>data table notebook</a>'\n",
              "            + ' to learn more about interactive tables.';\n",
              "          element.innerHTML = '';\n",
              "          dataTable['output_type'] = 'display_data';\n",
              "          await google.colab.output.renderOutput(dataTable, element);\n",
              "          const docLink = document.createElement('div');\n",
              "          docLink.innerHTML = docLinkHtml;\n",
              "          element.appendChild(docLink);\n",
              "        }\n",
              "      </script>\n",
              "    </div>\n",
              "  </div>\n",
              "  "
            ]
          },
          "metadata": {},
          "execution_count": 3
        }
      ]
    },
    {
      "cell_type": "code",
      "source": [
        "#dropping unnecessary columns\n",
        "\n",
        "data.drop(columns=['Year', 'Country', 'ISO 3166-1 alpha-3'], inplace=True, axis=1)\n",
        "\n",
        "#printing variables that will be used in modelling\n",
        "print(data.columns)"
      ],
      "metadata": {
        "colab": {
          "base_uri": "https://localhost:8080/"
        },
        "id": "eSLoAtFsdVjJ",
        "outputId": "0bfecf65-eddf-4c9f-e284-9f37fd998c2b"
      },
      "execution_count": 4,
      "outputs": [
        {
          "output_type": "stream",
          "name": "stdout",
          "text": [
            "Index(['Total', 'Coal', 'Oil', 'Gas', 'Cement', 'Flaring', 'Per Capita'], dtype='object')\n"
          ]
        }
      ]
    },
    {
      "cell_type": "code",
      "source": [
        "import pandas as pd\n",
        "from xgboost import XGBRegressor\n",
        "from sklearn.model_selection import train_test_split\n",
        "from sklearn.model_selection import GridSearchCV\n",
        "from sklearn.metrics import mean_absolute_error, mean_squared_error, r2_score\n"
      ],
      "metadata": {
        "id": "vaq8oFySg5VM"
      },
      "execution_count": 5,
      "outputs": []
    },
    {
      "cell_type": "code",
      "source": [
        "#separating features and target for use in modelling\n",
        "\n",
        "X = data.drop(['Per Capita'], axis=1)\n",
        "\n",
        "y = data['Per Capita']"
      ],
      "metadata": {
        "id": "6JtG0NErg5R6"
      },
      "execution_count": 6,
      "outputs": []
    },
    {
      "cell_type": "code",
      "source": [
        "X_train_val, X_test, y_train_val, y_test = train_test_split(X, y, test_size=0.2, random_state=0)\n",
        "X_train, X_val, y_train, y_val = train_test_split(X_train_val, y_train_val, test_size=0.25, random_state=0)"
      ],
      "metadata": {
        "id": "FK2iS3aogdax"
      },
      "execution_count": 7,
      "outputs": []
    },
    {
      "cell_type": "code",
      "source": [
        "xgb1 = XGBRegressor()\n",
        "parameters = {\n",
        "              'objective':['reg:squarederror'],\n",
        "              'learning_rate': [.0001, 0.001, .01],\n",
        "              'max_depth': [3, 5, 7],\n",
        "              'min_child_weight': [3,5,7],\n",
        "              'subsample': [0.1,0.5,1.0],\n",
        "              'colsample_bytree': [0.1, 0.5, 1.0],\n",
        "              'n_estimators': [500]}"
      ],
      "metadata": {
        "id": "jkB4jhDCgdXQ"
      },
      "execution_count": 8,
      "outputs": []
    },
    {
      "cell_type": "code",
      "source": [
        "xgb_grid = GridSearchCV(xgb1,\n",
        "                        parameters,\n",
        "                        cv = 3,\n",
        "                        n_jobs = -1,\n",
        "                        verbose=0)"
      ],
      "metadata": {
        "id": "kwA4LUY3gdTv"
      },
      "execution_count": 9,
      "outputs": []
    },
    {
      "cell_type": "code",
      "source": [
        "xgb_grid.fit(X_train, y_train)"
      ],
      "metadata": {
        "colab": {
          "base_uri": "https://localhost:8080/"
        },
        "id": "PWIZWcuzgdQd",
        "outputId": "de533db6-9337-41f4-c58e-4b5827ccf02a"
      },
      "execution_count": 10,
      "outputs": [
        {
          "output_type": "execute_result",
          "data": {
            "text/plain": [
              "GridSearchCV(cv=3, estimator=XGBRegressor(), n_jobs=-1,\n",
              "             param_grid={'colsample_bytree': [0.1, 0.5, 1.0],\n",
              "                         'learning_rate': [0.0001, 0.001, 0.01],\n",
              "                         'max_depth': [3, 5, 7], 'min_child_weight': [3, 5, 7],\n",
              "                         'n_estimators': [500],\n",
              "                         'objective': ['reg:squarederror'],\n",
              "                         'subsample': [0.1, 0.5, 1.0]})"
            ]
          },
          "metadata": {},
          "execution_count": 10
        }
      ]
    },
    {
      "cell_type": "code",
      "source": [
        "print(xgb_grid.best_score_)\n",
        "print(xgb_grid.best_params_)"
      ],
      "metadata": {
        "colab": {
          "base_uri": "https://localhost:8080/"
        },
        "id": "stFzsLPsgdNW",
        "outputId": "37e76079-bd2d-4947-94b2-353686ff6f01"
      },
      "execution_count": 11,
      "outputs": [
        {
          "output_type": "stream",
          "name": "stdout",
          "text": [
            "0.7005956734469501\n",
            "{'colsample_bytree': 0.5, 'learning_rate': 0.01, 'max_depth': 7, 'min_child_weight': 3, 'n_estimators': 500, 'objective': 'reg:squarederror', 'subsample': 1.0}\n"
          ]
        }
      ]
    },
    {
      "cell_type": "code",
      "source": [
        "xgb_cv = (xgb_grid.best_estimator_)"
      ],
      "metadata": {
        "id": "TaYWs3rUgdKI"
      },
      "execution_count": 12,
      "outputs": []
    },
    {
      "cell_type": "code",
      "source": [
        "eval_set = [(X_train, y_train),\n",
        "            (X_val, y_val)]"
      ],
      "metadata": {
        "id": "m8TKB0digsIQ"
      },
      "execution_count": 13,
      "outputs": []
    },
    {
      "cell_type": "code",
      "source": [
        "fit_model = xgb_cv.fit(\n",
        "    X_train,\n",
        "    y_train,\n",
        "    eval_set=eval_set,\n",
        "    eval_metric='mae',\n",
        "    early_stopping_rounds=50,\n",
        "    verbose=False)"
      ],
      "metadata": {
        "id": "b1eI68QcgsEx"
      },
      "execution_count": 14,
      "outputs": []
    },
    {
      "cell_type": "code",
      "source": [
        "print(\"MAE:\", mean_absolute_error(y_val, fit_model.predict(X_val)))\n",
        "print(\"MSE:\", mean_squared_error(y_val, fit_model.predict(X_val)))\n",
        "print(\"R2:\", r2_score(y_val, fit_model.predict(X_val)))"
      ],
      "metadata": {
        "colab": {
          "base_uri": "https://localhost:8080/"
        },
        "id": "ai9FXJDZgsBY",
        "outputId": "e11047b0-97c3-42a1-967d-8c89575e6f06"
      },
      "execution_count": 15,
      "outputs": [
        {
          "output_type": "stream",
          "name": "stdout",
          "text": [
            "MAE: 1.423950374275143\n",
            "MSE: 5.039964254189755\n",
            "R2: 0.8265221437772832\n"
          ]
        }
      ]
    },
    {
      "cell_type": "code",
      "source": [
        "print(\"MAE:\", mean_absolute_error(y_test, fit_model.predict(X_test)))\n",
        "print(\"MSE:\", mean_squared_error(y_test, fit_model.predict(X_test)))\n",
        "print(\"R2:\", r2_score(y_test, fit_model.predict(X_test)))"
      ],
      "metadata": {
        "colab": {
          "base_uri": "https://localhost:8080/"
        },
        "id": "3TCGmudngr-J",
        "outputId": "599b876d-0bcd-4e5a-d706-3a74e38d5bea"
      },
      "execution_count": 16,
      "outputs": [
        {
          "output_type": "stream",
          "name": "stdout",
          "text": [
            "MAE: 1.459400357910397\n",
            "MSE: 4.608591199734939\n",
            "R2: 0.7933383178990873\n"
          ]
        }
      ]
    },
    {
      "cell_type": "code",
      "source": [
        "fit_model.save_model('xgb_model.json')"
      ],
      "metadata": {
        "id": "geKgzO8Lgr7C"
      },
      "execution_count": 17,
      "outputs": []
    },
    {
      "cell_type": "code",
      "source": [
        "# saving the model\n",
        "\n",
        "import pickle\n",
        "file = open('carbonemissionmodel.pkl','wb')\n",
        "pickle.dump(fit_model,file)\n",
        "file.close()"
      ],
      "metadata": {
        "id": "IiVsbhxxgr3u"
      },
      "execution_count": 18,
      "outputs": []
    },
    {
      "cell_type": "code",
      "source": [],
      "metadata": {
        "id": "1ve06GsagdGK"
      },
      "execution_count": null,
      "outputs": []
    }
  ]
}